{
  "nbformat": 4,
  "nbformat_minor": 0,
  "metadata": {
    "colab": {
      "provenance": [],
      "authorship_tag": "ABX9TyOgMS46NzxpbnYAFqY1ue99",
      "include_colab_link": true
    },
    "kernelspec": {
      "name": "python3",
      "display_name": "Python 3"
    },
    "language_info": {
      "name": "python"
    }
  },
  "cells": [
    {
      "cell_type": "markdown",
      "metadata": {
        "id": "view-in-github",
        "colab_type": "text"
      },
      "source": [
        "<a href=\"https://colab.research.google.com/github/Subhas-1130/Subhas-demo/blob/main/ML_1st_ASSIGNMENT.ipynb\" target=\"_parent\"><img src=\"https://colab.research.google.com/assets/colab-badge.svg\" alt=\"Open In Colab\"/></a>"
      ]
    },
    {
      "cell_type": "code",
      "execution_count": 28,
      "metadata": {
        "collapsed": true,
        "id": "SnweFMm1lW42"
      },
      "outputs": [],
      "source": [
        "# Import necessary libraries\n",
        "import numpy as np\n",
        "import pandas as pd\n",
        "from sklearn.model_selection import train_test_split\n",
        "from sklearn.naive_bayes import GaussianNB, MultinomialNB, BernoulliNB\n",
        "from sklearn.datasets import load_iris\n",
        "from sklearn.metrics import accuracy_score, precision_score, recall_score, f1_score, confusion_matrix\n"
      ]
    },
    {
      "cell_type": "code",
      "source": [
        "# Load the Iris dataset (or use your dataset)\n",
        "data = load_iris()\n",
        "X = data.data\n",
        "y = data.target"
      ],
      "metadata": {
        "id": "y0-lJsc7xvko"
      },
      "execution_count": 29,
      "outputs": []
    },
    {
      "cell_type": "code",
      "source": [
        "# Split dataset into train and test sets (80% train, 20% test)\n",
        "X_train, X_test, y_train, y_test = train_test_split(X, y, test_size=0.2, random_state=42)"
      ],
      "metadata": {
        "id": "g0vNdzodxskn"
      },
      "execution_count": 30,
      "outputs": []
    },
    {
      "cell_type": "code",
      "source": [
        "# Gaussian Naive Bayes\n",
        "gnb = GaussianNB( priors=None, var_smoothing=1e-09)\n",
        "gnb.fit(X_train, y_train)\n",
        "y_pred_gnb = gnb.predict(X_test)"
      ],
      "metadata": {
        "id": "11SdFPA8xqWw"
      },
      "execution_count": 31,
      "outputs": []
    },
    {
      "cell_type": "code",
      "source": [
        "# Multinomial Naive Bayes (requires non-negative features)\n",
        "mnb = MultinomialNB(alpha=1.0, force_alpha=True, fit_prior=True, class_prior=None)\n",
        "mnb.fit(X_train, y_train)\n",
        "y_pred_mnb = mnb.predict(X_test)"
      ],
      "metadata": {
        "id": "SOfl0I_IxoX5"
      },
      "execution_count": 32,
      "outputs": []
    },
    {
      "cell_type": "code",
      "source": [
        "# Bernoulli Naive Bayes (requires binary features, so we'll modify the data)\n",
        "X_train_bin = np.where(X_train > 0, 1, 0)  # Convert to binary\n",
        "X_test_bin = np.where(X_test > 0, 1, 0)\n",
        "\n",
        "bnb = BernoulliNB(alpha=1.0, force_alpha=True, binarize=0.0, fit_prior=True, class_prior=None)\n",
        "bnb.fit(X_train_bin, y_train)\n",
        "y_pred_bnb = bnb.predict(X_test_bin)"
      ],
      "metadata": {
        "id": "HLVF0a8wxmU_"
      },
      "execution_count": 33,
      "outputs": []
    },
    {
      "cell_type": "code",
      "source": [
        "# Calculate metrics for each classifier\n",
        "def calculate_metrics(y_test, y_pred):\n",
        "    accuracy = accuracy_score(y_test, y_pred)\n",
        "    precision = precision_score(y_test, y_pred, average='macro', zero_division=0)\n",
        "    recall = recall_score(y_test, y_pred, average='macro', zero_division=0)\n",
        "    f1 = f1_score(y_test, y_pred, average='macro', zero_division=0)\n",
        "    cm = confusion_matrix(y_test, y_pred)\n",
        "\n",
        "    return accuracy, precision, recall, f1, cm"
      ],
      "metadata": {
        "id": "1Nqa__00xj-v"
      },
      "execution_count": 34,
      "outputs": []
    },
    {
      "cell_type": "code",
      "source": [
        "# Gaussian Naive Bayes metrics\n",
        "acuracy_gnb, precision_gnb, recall_gnb, f1_gnb, cm_gnb = calculate_metrics(y_test, y_pred_gnb)\n",
        "print(\"Gaussian Naive Bayes Results\")\n",
        "print(f\"Accuracy: {accuracy_gnb:.4f}\")\n",
        "print(cf\"Precision: {precision_gnb:.4f}\")\n",
        "print(f\"Recall: {recall_gnb:.4f}\")\n",
        "print(f\"F1-Score: {f1_gnb:.4f}\")\n",
        "print(\"Confusion Matrix:\")\n",
        "print(cm_gnb)"
      ],
      "metadata": {
        "colab": {
          "base_uri": "https://localhost:8080/"
        },
        "id": "QtyvfdQIxhlP",
        "outputId": "5dc8088f-ee3c-4c21-fe4f-b66fb407bbdd"
      },
      "execution_count": 35,
      "outputs": [
        {
          "output_type": "stream",
          "name": "stdout",
          "text": [
            "Gaussian Naive Bayes Results\n",
            "Accuracy: 1.0000\n",
            "Precision: 1.0000\n",
            "Recall: 1.0000\n",
            "F1-Score: 1.0000\n",
            "Confusion Matrix:\n",
            "[[10  0  0]\n",
            " [ 0  9  0]\n",
            " [ 0  0 11]]\n"
          ]
        }
      ]
    },
    {
      "cell_type": "code",
      "source": [
        "\n",
        "# Multinomial Naive Bayes metrics\n",
        "accuracy_mnb, precision_mnb, recall_mnb, f1_mnb, cm_mnb = calculate_metrics(y_test, y_pred_mnb)\n",
        "print(\"\\nMultinomial Naive Bayes Results\")\n",
        "print(f\"Accuracy: {accuracy_mnb:.4f}\")\n",
        "print(f\"Precision: {precision_mnb:.4f}\")\n",
        "print(f\"Recall: {recall_mnb:.4f}\")\n",
        "print(f\"F1-Score: {f1_mnb:.4f}\")\n",
        "print(\"Confusion Matrix:\")\n",
        "print(cm_mnb)"
      ],
      "metadata": {
        "colab": {
          "base_uri": "https://localhost:8080/"
        },
        "id": "qcgW-FaMxfg3",
        "outputId": "922a9f90-55e4-47e1-98bf-18b50b1494e3"
      },
      "execution_count": 36,
      "outputs": [
        {
          "output_type": "stream",
          "name": "stdout",
          "text": [
            "\n",
            "Multinomial Naive Bayes Results\n",
            "Accuracy: 0.9000\n",
            "Precision: 0.9167\n",
            "Recall: 0.9091\n",
            "F1-Score: 0.8997\n",
            "Confusion Matrix:\n",
            "[[10  0  0]\n",
            " [ 0  9  0]\n",
            " [ 0  3  8]]\n"
          ]
        }
      ]
    },
    {
      "cell_type": "code",
      "source": [
        "# Bernoulli Naive Bayes metrics\n",
        "accuracy_bnb, precision_bnb, recall_bnb, f1_bnb, cm_bnb = calculate_metrics(y_test, y_pred_bnb)\n",
        "print(\"\\nBernoulli Naive Bayes Results\")\n",
        "print(f\"Accuracy: {accuracy_bnb:.4f}\")\n",
        "print(f\"Precision: {precision_bnb:.4f}\")\n",
        "print(f\"Recall: {recall_bnb:.4f}\")\n",
        "print(f\"F1-Score: {f1_bnb:.4f}\")\n",
        "print(\"Confusion Matrix:\")\n",
        "print(cm_bnb)"
      ],
      "metadata": {
        "colab": {
          "base_uri": "https://localhost:8080/"
        },
        "id": "XK1dkr0Gw_wp",
        "outputId": "0a569c5c-b5de-4c1b-b3a7-77037edb9380"
      },
      "execution_count": 37,
      "outputs": [
        {
          "output_type": "stream",
          "name": "stdout",
          "text": [
            "\n",
            "Bernoulli Naive Bayes Results\n",
            "Accuracy: 0.3000\n",
            "Precision: 0.1000\n",
            "Recall: 0.3333\n",
            "F1-Score: 0.1538\n",
            "Confusion Matrix:\n",
            "[[ 0 10  0]\n",
            " [ 0  9  0]\n",
            " [ 0 11  0]]\n"
          ]
        }
      ]
    },
    {
      "cell_type": "code",
      "source": [
        "# Split dataset into train and test sets (80% train, 20% test)\n",
        "acc = []\n",
        "splits = []\n",
        "for i in range(1,6):\n",
        "    # print(i/10)\n",
        "    splits.append(i/10)\n",
        "    X_train, X_test, y_train, y_test = train_test_split(X, y, test_size=i/10, random_state=42)\n",
        "    gnb = GaussianNB( priors=None, var_smoothing=1e-09)\n",
        "    gnb.fit(X_train, y_train)\n",
        "    y_pred_gnb = gnb.predict(X_test)\n",
        "    acuracy_gnb, precision_gnb, recall_gnb, f1_gnb, cm_gnb = calculate_metrics(y_test, y_pred_gnb)\n",
        "    print(\"Gaussian Naive Bayes Results\")\n",
        "    print(f\"Accuracy: {accuracy_gnb:.4f}\")\n",
        "    print(f\"Precision: {precision_gnb:.4f}\")\n",
        "    print(f\"Recall: {recall_gnb:.4f}\")\n",
        "    print(f\"F1-Score: {f1_gnb:.4f}\")\n",
        "    print(\"Confusion Matrix:\")\n",
        "    print(cm_gnb)\n",
        "    acc.append(accuracy_gnb)"
      ],
      "metadata": {
        "colab": {
          "base_uri": "https://localhost:8080/"
        },
        "id": "p7RMrXGeEMs2",
        "outputId": "b42f31a8-40b5-492c-f57d-61a0933829f0"
      },
      "execution_count": 38,
      "outputs": [
        {
          "output_type": "stream",
          "name": "stdout",
          "text": [
            "Gaussian Naive Bayes Results\n",
            "Accuracy: 1.0000\n",
            "Precision: 1.0000\n",
            "Recall: 1.0000\n",
            "F1-Score: 1.0000\n",
            "Confusion Matrix:\n",
            "[[6 0 0]\n",
            " [0 6 0]\n",
            " [0 0 3]]\n",
            "Gaussian Naive Bayes Results\n",
            "Accuracy: 1.0000\n",
            "Precision: 1.0000\n",
            "Recall: 1.0000\n",
            "F1-Score: 1.0000\n",
            "Confusion Matrix:\n",
            "[[10  0  0]\n",
            " [ 0  9  0]\n",
            " [ 0  0 11]]\n",
            "Gaussian Naive Bayes Results\n",
            "Accuracy: 1.0000\n",
            "Precision: 0.9762\n",
            "Recall: 0.9744\n",
            "F1-Score: 0.9743\n",
            "Confusion Matrix:\n",
            "[[19  0  0]\n",
            " [ 0 12  1]\n",
            " [ 0  0 13]]\n",
            "Gaussian Naive Bayes Results\n",
            "Accuracy: 1.0000\n",
            "Precision: 0.9639\n",
            "Recall: 0.9639\n",
            "F1-Score: 0.9639\n",
            "Confusion Matrix:\n",
            "[[23  0  0]\n",
            " [ 0 18  1]\n",
            " [ 0  1 17]]\n",
            "Gaussian Naive Bayes Results\n",
            "Accuracy: 1.0000\n",
            "Precision: 0.9861\n",
            "Recall: 0.9855\n",
            "F1-Score: 0.9855\n",
            "Confusion Matrix:\n",
            "[[29  0  0]\n",
            " [ 0 23  0]\n",
            " [ 0  1 22]]\n"
          ]
        }
      ]
    },
    {
      "cell_type": "code",
      "source": [
        "import matplotlib.pyplot as plt\n",
        "plt.bar(splits,acc,width=0.05)"
      ],
      "metadata": {
        "colab": {
          "base_uri": "https://localhost:8080/",
          "height": 447
        },
        "id": "ecSSbBWgHHCc",
        "outputId": "22fe8fce-fa8c-4eae-e50f-d8df7f67ac45"
      },
      "execution_count": 39,
      "outputs": [
        {
          "output_type": "execute_result",
          "data": {
            "text/plain": [
              "<BarContainer object of 5 artists>"
            ]
          },
          "metadata": {},
          "execution_count": 39
        },
        {
          "output_type": "display_data",
          "data": {
            "text/plain": [
              "<Figure size 640x480 with 1 Axes>"
            ],
            "image/png": "[encoded data removed]"
          },
          "metadata": {}
        }
      ]
    }
  ]
}