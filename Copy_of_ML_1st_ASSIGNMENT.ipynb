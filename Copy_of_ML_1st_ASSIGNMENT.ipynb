{
  "nbformat": 4,
  "nbformat_minor": 0,
  "metadata": {
    "colab": {
      "provenance": [],
      "authorship_tag": "ABX9TyN1ybq1GrJLKzjaTHD65Okn",
      "include_colab_link": true
    },
    "kernelspec": {
      "name": "python3",
      "display_name": "Python 3"
    },
    "language_info": {
      "name": "python"
    }
  },
  "cells": [
    {
      "cell_type": "markdown",
      "metadata": {
        "id": "view-in-github",
        "colab_type": "text"
      },
      "source": [
        "<a href=\"https://colab.research.google.com/github/Subhas-1130/Subhas-demo/blob/main/Copy_of_ML_1st_ASSIGNMENT.ipynb\" target=\"_parent\"><img src=\"https://colab.research.google.com/assets/colab-badge.svg\" alt=\"Open In Colab\"/></a>"
      ]
    },
    {
      "cell_type": "code",
      "execution_count": 23,
      "metadata": {
        "collapsed": true,
        "id": "SnweFMm1lW42"
      },
      "outputs": [],
      "source": [
        "# Import necessary libraries\n",
        "import numpy as np\n",
        "import pandas as pd\n",
        "from sklearn.model_selection import train_test_split\n",
        "from sklearn.naive_bayes import GaussianNB, MultinomialNB, BernoulliNB\n",
        "from sklearn.datasets import load_breast_cancer\n",
        "from sklearn.metrics import accuracy_score, precision_score, recall_score, f1_score, confusion_matrix"
      ]
    },
    {
      "cell_type": "code",
      "source": [
        "\n",
        "# Load the Wisconsin Breast Cancer dataset\n",
        "data = load_breast_cancer()\n",
        "X = data.data  # Features\n",
        "y = data.target  # Labels (Malignant = 0, Benign = 1)"
      ],
      "metadata": {
        "id": "mBxSDHlP-nI2"
      },
      "execution_count": 24,
      "outputs": []
    },
    {
      "cell_type": "code",
      "source": [
        "# Split dataset into train and test sets (80% train, 20% test)\n",
        "X_train, X_test, y_train, y_test = train_test_split(X, y, test_size=0.2, random_state=42)\n"
      ],
      "metadata": {
        "id": "G6M3Jpy2-lGk"
      },
      "execution_count": 25,
      "outputs": []
    },
    {
      "cell_type": "code",
      "source": [
        "# Gaussian Naive Bayes\n",
        "gnb = GaussianNB( priors=None, var_smoothing=1e-09)\n",
        "gnb.fit(X_train, y_train)\n",
        "y_pred_gnb = gnb.predict(X_test)"
      ],
      "metadata": {
        "id": "CIFfuG58-jBe"
      },
      "execution_count": 26,
      "outputs": []
    },
    {
      "cell_type": "code",
      "source": [
        "# Multinomial Naive Bayes (requires non-negative features)\n",
        "mnb = MultinomialNB(alpha=1.0, force_alpha=True, fit_prior=True, class_prior=None)\n",
        "mnb.fit(X_train, y_train)\n",
        "y_pred_mnb = mnb.predict(X_test)"
      ],
      "metadata": {
        "id": "z19qKhsi-hQd"
      },
      "execution_count": 27,
      "outputs": []
    },
    {
      "cell_type": "code",
      "source": [
        "# Bernoulli Naive Bayes (requires binary features)\n",
        "# Convert features to binary for Bernoulli Naive Bayes\n",
        "X_train_bin = np.where(X_train > 0, 1, 0)\n",
        "X_test_bin = np.where(X_test > 0, 1, 0)\n",
        "\n",
        "bnb = BernoulliNB(alpha=1.0, force_alpha=True, binarize=0.0, fit_prior=True, class_prior=None)\n",
        "bnb.fit(X_train_bin, y_train)\n",
        "y_pred_bnb = bnb.predict(X_test_bin)"
      ],
      "metadata": {
        "id": "ubypVRVR-fvl"
      },
      "execution_count": 28,
      "outputs": []
    },
    {
      "cell_type": "code",
      "source": [
        "# Calculate metrics for each classifier\n",
        "def calculate_metrics(y_test, y_pred):\n",
        "    accuracy = accuracy_score(y_test, y_pred)\n",
        "    precision = precision_score(y_test, y_pred, average='binary', zero_division=0)\n",
        "    recall = recall_score(y_test, y_pred, average='binary', zero_division=0)\n",
        "    f1 = f1_score(y_test, y_pred, average='binary', zero_division=0)\n",
        "    cm = confusion_matrix(y_test, y_pred)\n",
        "\n",
        "    return accuracy, precision, recall, f1, cm"
      ],
      "metadata": {
        "id": "ETkuJnTV-dXF"
      },
      "execution_count": 29,
      "outputs": []
    },
    {
      "cell_type": "code",
      "source": [
        "# Gaussian Naive Bayes metrics\n",
        "accuracy_gnb, precision_gnb, recall_gnb, f1_gnb, cm_gnb = calculate_metrics(y_test, y_pred_gnb)\n",
        "print(\"Gaussian Naive Bayes Results\")\n",
        "print(f\"Accuracy: {accuracy_gnb:.4f}\")\n",
        "print(f\"Precision: {precision_gnb:.4f}\")\n",
        "print(f\"Recall: {recall_gnb:.4f}\")\n",
        "print(f\"F1-Score: {f1_gnb:.4f}\")\n",
        "print(\"Confusion Matrix:\")\n",
        "print(cm_gnb)"
      ],
      "metadata": {
        "colab": {
          "base_uri": "https://localhost:8080/"
        },
        "id": "pkJRtmUx-a9k",
        "outputId": "13ceda2d-10fc-4265-dbe2-aad674f53cc5"
      },
      "execution_count": 30,
      "outputs": [
        {
          "output_type": "stream",
          "name": "stdout",
          "text": [
            "Gaussian Naive Bayes Results\n",
            "Accuracy: 0.9737\n",
            "Precision: 0.9595\n",
            "Recall: 1.0000\n",
            "F1-Score: 0.9793\n",
            "Confusion Matrix:\n",
            "[[40  3]\n",
            " [ 0 71]]\n"
          ]
        }
      ]
    },
    {
      "cell_type": "code",
      "source": [
        "# Multinomial Naive Bayes metrics\n",
        "accuracy_mnb, precision_mnb, recall_mnb, f1_mnb, cm_mnb = calculate_metrics(y_test, y_pred_mnb)\n",
        "print(\"\\nMultinomial Naive Bayes Results\")\n",
        "print(f\"Accuracy: {accuracy_mnb:.4f}\")\n",
        "print(f\"Precision: {precision_mnb:.4f}\")\n",
        "print(f\"Recall: {recall_mnb:.4f}\")\n",
        "print(f\"F1-Score: {f1_mnb:.4f}\")\n",
        "print(\"Confusion Matrix:\")\n",
        "print(cm_mnb)\n"
      ],
      "metadata": {
        "colab": {
          "base_uri": "https://localhost:8080/"
        },
        "id": "-RDxkDjk-YzV",
        "outputId": "faeaba27-e5a0-4b95-a64c-494f753991bb"
      },
      "execution_count": 31,
      "outputs": [
        {
          "output_type": "stream",
          "name": "stdout",
          "text": [
            "\n",
            "Multinomial Naive Bayes Results\n",
            "Accuracy: 0.9386\n",
            "Precision: 0.9103\n",
            "Recall: 1.0000\n",
            "F1-Score: 0.9530\n",
            "Confusion Matrix:\n",
            "[[36  7]\n",
            " [ 0 71]]\n"
          ]
        }
      ]
    },
    {
      "cell_type": "code",
      "source": [
        "\n",
        "# Bernoulli Naive Bayes metrics\n",
        "accuracy_bnb, precision_bnb, recall_bnb, f1_bnb, cm_bnb = calculate_metrics(y_test, y_pred_bnb)\n",
        "print(\"\\nBernoulli Naive Bayes Results\")\n",
        "print(f\"Accuracy: {accuracy_bnb:.4f}\")\n",
        "print(f\"Precision: {precision_bnb:.4f}\")\n",
        "print(f\"Recall: {recall_bnb:.4f}\")\n",
        "print(f\"F1-Score: {f1_bnb:.4f}\")\n",
        "print(\"Confusion Matrix:\")\n",
        "print(cm_bnb)"
      ],
      "metadata": {
        "colab": {
          "base_uri": "https://localhost:8080/"
        },
        "id": "MA_0boiN-W8l",
        "outputId": "eeea2419-a883-422b-f857-5358965fdb13"
      },
      "execution_count": 32,
      "outputs": [
        {
          "output_type": "stream",
          "name": "stdout",
          "text": [
            "\n",
            "Bernoulli Naive Bayes Results\n",
            "Accuracy: 0.6228\n",
            "Precision: 0.6228\n",
            "Recall: 1.0000\n",
            "F1-Score: 0.7676\n",
            "Confusion Matrix:\n",
            "[[ 0 43]\n",
            " [ 0 71]]\n"
          ]
        }
      ]
    },
    {
      "cell_type": "code",
      "source": [
        "# Split dataset into train and test sets (80% train, 20% test)\n",
        "acc = []\n",
        "splits = []\n",
        "for i in range(1,6):\n",
        "  # print(i/10)\n",
        "  splits.append(i/10)\n",
        "  X_train, X_test, y_train, y_test = train_test_split(X, y, test_size=i/10, random_state=42)\n",
        "  gnb = GaussianNB( priors=None, var_smoothing=1e-09)\n",
        "  gnb.fit(X_train, y_train)\n",
        "  y_pred_gnb = gnb.predict(X_test)\n",
        "  accuracy_gnb, precision_gnb, recall_gnb, f1_gnb, cm_gnb = calculate_metrics(y_test, y_pred_gnb)\n",
        "  print(\"Gaussian Naive Bayes Results\")\n",
        "  print(f\"Accuracy: {accuracy_gnb:.4f}\")\n",
        "  print(f\"Precision: {precision_gnb:.4f}\")\n",
        "  print(f\"Recall: {recall_gnb:.4f}\")\n",
        "  print(f\"F1-Score: {f1_gnb:.4f}\")\n",
        "  print(\"Confusion Matrix:\")\n",
        "  print(cm_gnb)\n",
        "  acc.append(accuracy_gnb)\n"
      ],
      "metadata": {
        "colab": {
          "base_uri": "https://localhost:8080/"
        },
        "id": "GY-mwKQZBoNG",
        "outputId": "d08ee98d-a9ff-43df-b52d-21c75aca8ebb"
      },
      "execution_count": 38,
      "outputs": [
        {
          "output_type": "stream",
          "name": "stdout",
          "text": [
            "Gaussian Naive Bayes Results\n",
            "Accuracy: 0.9825\n",
            "Precision: 0.9756\n",
            "Recall: 1.0000\n",
            "F1-Score: 0.9877\n",
            "Confusion Matrix:\n",
            "[[16  1]\n",
            " [ 0 40]]\n",
            "Gaussian Naive Bayes Results\n",
            "Accuracy: 0.9737\n",
            "Precision: 0.9595\n",
            "Recall: 1.0000\n",
            "F1-Score: 0.9793\n",
            "Confusion Matrix:\n",
            "[[40  3]\n",
            " [ 0 71]]\n",
            "Gaussian Naive Bayes Results\n",
            "Accuracy: 0.9415\n",
            "Precision: 0.9455\n",
            "Recall: 0.9630\n",
            "F1-Score: 0.9541\n",
            "Confusion Matrix:\n",
            "[[ 57   6]\n",
            " [  4 104]]\n",
            "Gaussian Naive Bayes Results\n",
            "Accuracy: 0.9518\n",
            "Precision: 0.9536\n",
            "Recall: 0.9730\n",
            "F1-Score: 0.9632\n",
            "Confusion Matrix:\n",
            "[[ 73   7]\n",
            " [  4 144]]\n",
            "Gaussian Naive Bayes Results\n",
            "Accuracy: 0.9439\n",
            "Precision: 0.9524\n",
            "Recall: 0.9626\n",
            "F1-Score: 0.9574\n",
            "Confusion Matrix:\n",
            "[[ 89   9]\n",
            " [  7 180]]\n"
          ]
        }
      ]
    },
    {
      "cell_type": "code",
      "source": [
        "acc"
      ],
      "metadata": {
        "colab": {
          "base_uri": "https://localhost:8080/"
        },
        "id": "aGKm_gsFB4al",
        "outputId": "1e42c8b0-df0f-47c1-a821-72f4e34a5a43"
      },
      "execution_count": 39,
      "outputs": [
        {
          "output_type": "execute_result",
          "data": {
            "text/plain": [
              "[0.9824561403508771,\n",
              " 0.9736842105263158,\n",
              " 0.9415204678362573,\n",
              " 0.9517543859649122,\n",
              " 0.9438596491228071]"
            ]
          },
          "metadata": {},
          "execution_count": 39
        }
      ]
    },
    {
      "cell_type": "code",
      "source": [
        "splits"
      ],
      "metadata": {
        "colab": {
          "base_uri": "https://localhost:8080/"
        },
        "id": "mX05YHIsC0Ft",
        "outputId": "98241049-1aa1-44fb-de62-0f2cb4c767c3"
      },
      "execution_count": 40,
      "outputs": [
        {
          "output_type": "execute_result",
          "data": {
            "text/plain": [
              "[0.1, 0.2, 0.3, 0.4, 0.5]"
            ]
          },
          "metadata": {},
          "execution_count": 40
        }
      ]
    },
    {
      "cell_type": "code",
      "source": [
        "import matplotlib.pyplot as plt\n",
        "plt.bar(splits,acc,width=0.05)"
      ],
      "metadata": {
        "colab": {
          "base_uri": "https://localhost:8080/",
          "height": 447
        },
        "id": "pN8j4ud_C9uc",
        "outputId": "95aac82c-9358-4d1d-e621-797a2d435fd0"
      },
      "execution_count": 48,
      "outputs": [
        {
          "output_type": "execute_result",
          "data": {
            "text/plain": [
              "<BarContainer object of 5 artists>"
            ]
          },
          "metadata": {},
          "execution_count": 48
        },
        {
          "output_type": "display_data",
          "data": {
            "text/plain": [
              "<Figure size 640x480 with 1 Axes>"
            ],
            "image/png": "[encoded data removed]"
          },
          "metadata": {}
        }
      ]
    },
    {
      "cell_type": "code",
      "source": [],
      "metadata": {
        "id": "fcgt0A2EDTXM"
      },
      "execution_count": null,
      "outputs": []
    }
  ]
}