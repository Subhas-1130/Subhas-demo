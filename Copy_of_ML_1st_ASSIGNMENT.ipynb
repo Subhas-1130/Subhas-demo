{
  "nbformat": 4,
  "nbformat_minor": 0,
  "metadata": {
    "colab": {
      "provenance": [],
      "authorship_tag": "ABX9TyMIAtVwo8LddwCUPxdnyNz9",
      "include_colab_link": true
    },
    "kernelspec": {
      "name": "python3",
      "display_name": "Python 3"
    },
    "language_info": {
      "name": "python"
    }
  },
  "cells": [
    {
      "cell_type": "markdown",
      "metadata": {
        "id": "view-in-github",
        "colab_type": "text"
      },
      "source": [
        "<a href=\"https://colab.research.google.com/github/Subhas-1130/Subhas-demo/blob/main/Copy_of_ML_1st_ASSIGNMENT.ipynb\" target=\"_parent\"><img src=\"https://colab.research.google.com/assets/colab-badge.svg\" alt=\"Open In Colab\"/></a>"
      ]
    },
    {
      "cell_type": "code",
      "execution_count": null,
      "metadata": {
        "collapsed": true,
        "id": "SnweFMm1lW42"
      },
      "outputs": [],
      "source": [
        "# Import necessary libraries\n",
        "import numpy as np\n",
        "import pandas as pd\n",
        "from sklearn.model_selection import train_test_split\n",
        "from sklearn.naive_bayes import GaussianNB, MultinomialNB, BernoulliNB\n",
        "from sklearn.datasets import load_iris\n",
        "from sklearn.metrics import accuracy_score, precision_score, recall_score, f1_score, confusion_matrix\n"
      ]
    },
    {
      "cell_type": "code",
      "source": [
        "# Load the Iris dataset (or use your dataset)\n",
        "data = load_iris()\n",
        "X = data.data\n",
        "y = data.target"
      ],
      "metadata": {
        "id": "y0-lJsc7xvko"
      },
      "execution_count": null,
      "outputs": []
    },
    {
      "cell_type": "code",
      "source": [
        "# Split dataset into train and test sets (80% train, 20% test)\n",
        "X_train, X_test, y_train, y_test = train_test_split(X, y, test_size=0.2, random_state=42)"
      ],
      "metadata": {
        "id": "g0vNdzodxskn"
      },
      "execution_count": null,
      "outputs": []
    },
    {
      "cell_type": "code",
      "source": [
        "# Gaussian Naive Bayes\n",
        "gnb = GaussianNB()\n",
        "gnb.fit(X_train, y_train)\n",
        "y_pred_gnb = gnb.predict(X_test)"
      ],
      "metadata": {
        "id": "11SdFPA8xqWw"
      },
      "execution_count": null,
      "outputs": []
    },
    {
      "cell_type": "code",
      "source": [
        "# Multinomial Naive Bayes (requires non-negative features)\n",
        "mnb = MultinomialNB()\n",
        "mnb.fit(X_train, y_train)\n",
        "y_pred_mnb = mnb.predict(X_test)"
      ],
      "metadata": {
        "id": "SOfl0I_IxoX5"
      },
      "execution_count": null,
      "outputs": []
    },
    {
      "cell_type": "code",
      "source": [
        "# Bernoulli Naive Bayes (requires binary features, so we'll modify the data)\n",
        "X_train_bin = np.where(X_train > 0, 1, 0)  # Convert to binary\n",
        "X_test_bin = np.where(X_test > 0, 1, 0)\n",
        "\n",
        "bnb = BernoulliNB()\n",
        "bnb.fit(X_train_bin, y_train)\n",
        "y_pred_bnb = bnb.predict(X_test_bin)"
      ],
      "metadata": {
        "id": "HLVF0a8wxmU_"
      },
      "execution_count": null,
      "outputs": []
    },
    {
      "cell_type": "code",
      "source": [
        "# Calculate metrics for each classifier\n",
        "def calculate_metrics(y_test, y_pred):\n",
        "    accuracy = accuracy_score(y_test, y_pred)\n",
        "    precision = precision_score(y_test, y_pred, average='macro', zero_division=0)\n",
        "    recall = recall_score(y_test, y_pred, average='macro', zero_division=0)\n",
        "    f1 = f1_score(y_test, y_pred, average='macro', zero_division=0)\n",
        "    cm = confusion_matrix(y_test, y_pred)\n",
        "\n",
        "    return accuracy, precision, recall, f1, cm"
      ],
      "metadata": {
        "id": "1Nqa__00xj-v"
      },
      "execution_count": null,
      "outputs": []
    },
    {
      "cell_type": "code",
      "source": [
        "# Gaussian Naive Bayes metrics\n",
        "accuracy_gnb, precision_gnb, recall_gnb, f1_gnb, cm_gnb = calculate_metrics(y_test, y_pred_gnb)\n",
        "print(\"Gaussian Naive Bayes Results\")\n",
        "print(f\"Accuracy: {accuracy_gnb:.4f}\")\n",
        "print(f\"Precision: {precision_gnb:.4f}\")\n",
        "print(f\"Recall: {recall_gnb:.4f}\")\n",
        "print(f\"F1-Score: {f1_gnb:.4f}\")\n",
        "print(\"Confusion Matrix:\")\n",
        "print(cm_gnb)"
      ],
      "metadata": {
        "colab": {
          "base_uri": "https://localhost:8080/"
        },
        "id": "QtyvfdQIxhlP",
        "outputId": "0891d403-998d-4f1a-9de9-06d76a63651b"
      },
      "execution_count": null,
      "outputs": [
        {
          "output_type": "stream",
          "name": "stdout",
          "text": [
            "Gaussian Naive Bayes Results\n",
            "Accuracy: 1.0000\n",
            "Precision: 1.0000\n",
            "Recall: 1.0000\n",
            "F1-Score: 1.0000\n",
            "Confusion Matrix:\n",
            "[[10  0  0]\n",
            " [ 0  9  0]\n",
            " [ 0  0 11]]\n"
          ]
        }
      ]
    },
    {
      "cell_type": "code",
      "source": [
        "\n",
        "# Multinomial Naive Bayes metrics\n",
        "accuracy_mnb, precision_mnb, recall_mnb, f1_mnb, cm_mnb = calculate_metrics(y_test, y_pred_mnb)\n",
        "print(\"\\nMultinomial Naive Bayes Results\")\n",
        "print(f\"Accuracy: {accuracy_mnb:.4f}\")\n",
        "print(f\"Precision: {precision_mnb:.4f}\")\n",
        "print(f\"Recall: {recall_mnb:.4f}\")\n",
        "print(f\"F1-Score: {f1_mnb:.4f}\")\n",
        "print(\"Confusion Matrix:\")\n",
        "print(cm_mnb)"
      ],
      "metadata": {
        "colab": {
          "base_uri": "https://localhost:8080/"
        },
        "id": "qcgW-FaMxfg3",
        "outputId": "22c386c7-409a-4549-ac25-472a5b80fe39"
      },
      "execution_count": null,
      "outputs": [
        {
          "output_type": "stream",
          "name": "stdout",
          "text": [
            "\n",
            "Multinomial Naive Bayes Results\n",
            "Accuracy: 0.9000\n",
            "Precision: 0.9167\n",
            "Recall: 0.9091\n",
            "F1-Score: 0.8997\n",
            "Confusion Matrix:\n",
            "[[10  0  0]\n",
            " [ 0  9  0]\n",
            " [ 0  3  8]]\n"
          ]
        }
      ]
    },
    {
      "cell_type": "code",
      "source": [
        "# Bernoulli Naive Bayes metrics\n",
        "accuracy_bnb, precision_bnb, recall_bnb, f1_bnb, cm_bnb = calculate_metrics(y_test, y_pred_bnb)\n",
        "print(\"\\nBernoulli Naive Bayes Results\")\n",
        "print(f\"Accuracy: {accuracy_bnb:.4f}\")\n",
        "print(f\"Precision: {precision_bnb:.4f}\")\n",
        "print(f\"Recall: {recall_bnb:.4f}\")\n",
        "print(f\"F1-Score: {f1_bnb:.4f}\")\n",
        "print(\"Confusion Matrix:\")\n",
        "print(cm_bnb)"
      ],
      "metadata": {
        "colab": {
          "base_uri": "https://localhost:8080/"
        },
        "id": "XK1dkr0Gw_wp",
        "outputId": "92bff68c-2f37-4d0d-f5bf-01e2612e3993"
      },
      "execution_count": null,
      "outputs": [
        {
          "output_type": "stream",
          "name": "stdout",
          "text": [
            "\n",
            "Bernoulli Naive Bayes Results\n",
            "Accuracy: 0.3000\n",
            "Precision: 0.1000\n",
            "Recall: 0.3333\n",
            "F1-Score: 0.1538\n",
            "Confusion Matrix:\n",
            "[[ 0 10  0]\n",
            " [ 0  9  0]\n",
            " [ 0 11  0]]\n"
          ]
        }
      ]
    }
  ]
}